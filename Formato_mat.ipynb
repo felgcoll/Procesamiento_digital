{
 "cells": [
  {
   "cell_type": "code",
   "execution_count": 1,
   "metadata": {},
   "outputs": [],
   "source": [
    "from scipy.io import savemat\n",
    "import os\n",
    "import cv2\n",
    "\n",
    "from skimage import io\n",
    "from matplotlib import pyplot as plt\n",
    "import numpy as np\n",
    "\n",
    "from skimage import img_as_ubyte, img_as_float\n",
    "\n",
    "from PIL import Image, ImageOps\n",
    "from numpy import asarray\n",
    "\n",
    "from scipy import ndimage as ndi"
   ]
  },
  {
   "cell_type": "code",
   "execution_count": 8,
   "metadata": {},
   "outputs": [
    {
     "name": "stdout",
     "output_type": "stream",
     "text": [
      "2734\n"
     ]
    }
   ],
   "source": [
    "#Directorio a recorrer\n",
    "path_filamentos = '1 Frames\\Shim_L60_2_U15-71\\\\'\n",
    "\n",
    "def Ficheros(path):\n",
    "    contenido = os.listdir(path)\n",
    "\n",
    "    #Acumulador del nombre de las imagenes a utilizar\n",
    "    imagenes = []\n",
    "\n",
    "    #Se recorre el path para obtener los nombre y se los aggrega al acumulador, en este caso la lista\n",
    "    for fichero in contenido:\n",
    "        if os.path.isfile(os.path.join(path, fichero)) and fichero.endswith('.png'):\n",
    "            imagenes.append(fichero)\n",
    "            \n",
    "    return imagenes\n",
    "\n",
    "#Se utiliza la función para obtener los fichero que se van a procesar\n",
    "filamentos = Ficheros(path_filamentos)\n",
    "print(len(filamentos))"
   ]
  },
  {
   "cell_type": "code",
   "execution_count": 9,
   "metadata": {},
   "outputs": [],
   "source": [
    "path_sk = r'.\\Skel\\Shim_L60_2_U15-71\\\\'\n",
    "\n",
    "def merge(file_name):\n",
    "    img = cv2.imread(path_sk+ file_name, 0)\n",
    "    \n",
    "    indices = np.where(img != [0])\n",
    "    x_coord = indices[1]\n",
    "    y_coord = indices[0]\n",
    "    return x_coord, y_coord"
   ]
  },
  {
   "cell_type": "code",
   "execution_count": 10,
   "metadata": {},
   "outputs": [],
   "source": [
    "counter = 1\n",
    "mdic={}\n",
    "for img in filamentos:\n",
    "    x, y = merge(img)\n",
    "    mdic[\"x_\"+str(counter)] = x\n",
    "    mdic[\"y_\"+str(counter)] = y*-1 + 500\n",
    "    counter +=1\n",
    "\n",
    "savemat(\"Info\\Shim_L60_2_U15-71.mat\", mdic)"
   ]
  },
  {
   "cell_type": "code",
   "execution_count": null,
   "metadata": {},
   "outputs": [],
   "source": [
    "#Revisar para terminar de procesar el batch 2 u6-u15"
   ]
  }
 ],
 "metadata": {
  "kernelspec": {
   "display_name": "Python 3",
   "language": "python",
   "name": "python3"
  },
  "language_info": {
   "codemirror_mode": {
    "name": "ipython",
    "version": 3
   },
   "file_extension": ".py",
   "mimetype": "text/x-python",
   "name": "python",
   "nbconvert_exporter": "python",
   "pygments_lexer": "ipython3",
   "version": "3.7.4"
  }
 },
 "nbformat": 4,
 "nbformat_minor": 2
}
